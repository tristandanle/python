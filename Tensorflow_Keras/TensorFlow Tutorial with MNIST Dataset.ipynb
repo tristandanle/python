{
 "cells": [
  {
   "cell_type": "markdown",
   "metadata": {},
   "source": [
    "# TensorFlow Tutorial with MNIST Dataset\n",
    "**About the MNIST dataset**.   \n",
    "MNIST is the equivalent *Hello World* of image analysis.\n",
    "It consists of hand written numbers, 0-9, in 28x28 pixel squares.  \n",
    "Each gray-scale pixel contains an integer 0-255 to indicate darkness, with 0 white and 255 black.  \n",
    "There are about 60,000 training records, and about 10,000 test records.  \n",
    "In other words, the images of numbers have already been transformed into arrays of ints to make them easier to use for ML projects. You can find more info on the dataset [here](http://yann.lecun.com/exdb/mnist/). You can also download it from [here](https://s3.amazonaws.com/img-datasets/mnist.pkl.gz).\n",
    "## 1. Load Data into a Numpy Array  \n",
    "I downloaded the data file onto my desktop and loaded it locally.  \n",
    "You can also load it directly from the cloud as follows:  \n",
    "```mnist = tf.keras.datasets.mnist  \n",
    "(x_train, y_train), (x_test, y_test) = mnist.load_data()  \n",
    "```  \n",
    "**After the load:**   \n",
    "x_train contains 60k arrays of 28x28.  \n",
    "The y_train vector contains the corresponding labels for these.  \n",
    "x_test contains 10k arrays of 28x28.  \n",
    "The y_test vector contains the corresponding labels for these."
   ]
  },
  {
   "cell_type": "code",
   "execution_count": 218,
   "metadata": {},
   "outputs": [
    {
     "name": "stdout",
     "output_type": "stream",
     "text": [
      "<class 'numpy.ndarray'> 47040000 (60000, 28, 28)\n",
      "<class 'numpy.ndarray'> 60000 (60000,)\n",
      "<class 'numpy.ndarray'> 7840000 (10000, 28, 28)\n",
      "<class 'numpy.ndarray'> 10000 (10000,)\n",
      "8 2\n"
     ]
    }
   ],
   "source": [
    "import pickle\n",
    "import numpy as np\n",
    "\n",
    "with open('/Users/joejames/desktop/mnist.pkl', 'rb') as f:\n",
    "    (x_train, y_train), (x_test, y_test) = pickle.load(f, encoding='latin1')\n",
    "    \n",
    "print(type(x_train), x_train.size, x_train.shape)\n",
    "print(type(y_train), y_train.size, y_train.shape)\n",
    "print(type(x_test), x_test.size, x_test.shape)\n",
    "print(type(y_test), y_test.size, y_test.shape)\n",
    "print(y_train[55], y_test[583])"
   ]
  },
  {
   "cell_type": "markdown",
   "metadata": {},
   "source": [
    "## 2. Use Matplotlib to visualize one record.  \n",
    "I set the colormap to Greys. There are a bunch of other colormap choices if you like bright visualizations. Try magma or any of the other colormap choice in the [docs](https://matplotlib.org/tutorials/colors/colormaps.html)."
   ]
  },
  {
   "cell_type": "code",
   "execution_count": 217,
   "metadata": {},
   "outputs": [
    {
     "data": {
      "text/plain": [
       "<matplotlib.image.AxesImage at 0x13b0f1c50>"
      ]
     },
     "execution_count": 217,
     "metadata": {},
     "output_type": "execute_result"
    },
    {
     "data": {
      "image/png": "[encoded data removed]",
      "text/plain": [
       "<Figure size 432x288 with 1 Axes>"
      ]
     },
     "metadata": {
      "needs_background": "light"
     },
     "output_type": "display_data"
    }
   ],
   "source": [
    "import matplotlib.cm as cm\n",
    "import matplotlib.pyplot as plt\n",
    "\n",
    "plt.imshow(x_train[55].reshape(28, 28), cmap=cm.Greys)"
   ]
  },
  {
   "cell_type": "markdown",
   "metadata": {},
   "source": [
    "## 3. Plot a bunch of records to see sample data  \n",
    "Basically, use the same Matplotlib commands above in a for loop to show 18 records from the train set in a subplot figure. We also make the figsize a bit bigger and remove the tick marks for readability."
   ]
  },
  {
   "cell_type": "code",
   "execution_count": 213,
   "metadata": {},
   "outputs": [
    {
     "data": {
      "text/plain": [
       "<function matplotlib.pyplot.show(*args, **kw)>"
      ]
     },
     "execution_count": 213,
     "metadata": {},
     "output_type": "execute_result"
    },
    {
     "data": {
      "image/png": "[encoded data removed]",
      "text/plain": [
       "<Figure size 648x360 with 18 Axes>"
      ]
     },
     "metadata": {},
     "output_type": "display_data"
    }
   ],
   "source": [
    "images = x_train[0:18]\n",
    "fig, axes = plt.subplots(3, 6, figsize=[9,5])\n",
    "\n",
    "for i, ax in enumerate(axes.flat):\n",
    "    ax.imshow(x_train[i].reshape(28, 28), cmap=cm.Greys)\n",
    "    ax.set_xticks([])\n",
    "    ax.set_yticks([])\n",
    "plt.show"
   ]
  },
  {
   "cell_type": "markdown",
   "metadata": {},
   "source": [
    "## 4. Show distribution of training data labels   \n",
    "The training data is about evenly distributed across all nine digits. "
   ]
  },
  {
   "cell_type": "code",
   "execution_count": 214,
   "metadata": {},
   "outputs": [
    {
     "data": {
      "image/png": "[encoded data removed]",
      "text/plain": [
       "<Figure size 432x288 with 1 Axes>"
      ]
     },
     "metadata": {
      "needs_background": "light"
     },
     "output_type": "display_data"
    },
    {
     "name": "stdout",
     "output_type": "stream",
     "text": [
      "[5923 6742 5958 6131 5842 5421 5918 6265 5851 5949]\n"
     ]
    }
   ],
   "source": [
    "counts = np.bincount(y_train)\n",
    "nums = np.arange(len(counts))\n",
    "plt.bar(nums, counts)\n",
    "plt.show()\n",
    "print(counts)"
   ]
  },
  {
   "cell_type": "markdown",
   "metadata": {},
   "source": [
    "## 5. Apply Keras/TensorFlow neural network  \n",
    "Use tensorflow to train the model with 60k training records, compile the model, and classify 10k test records with 98% accuracy.  \n",
    "**Create the model**  \n",
    "Build the keras model by stacking layers into the network. Our model here has four layers:\n",
    "- Flatten reshapes the data into a 1-dimensional array\n",
    "- [Dense](https://www.tensorflow.org/api_docs/python/tf/keras/layers/Dense) tells the model to use output arrays of shape (*, 512) and sets rectified linear [activation function](https://keras.io/activations/). \n",
    "- [Dropout](https://www.tensorflow.org/api_docs/python/tf/keras/layers/Dropout) applies dropout to the input to help avoid overfitting.\n",
    "- The next Dense line condenses the ouput into probabilities for each of the 10 digits.\n",
    "\n",
    "**Compile the model**   \n",
    "- [Adam](https://keras.io/optimizers/) is an optimization algorithm that uses stochastic gradient descent to update network weights.\n",
    "- Sparse categorical crossentropy is a [loss function](https://keras.io/losses/) that is required to compile the model. The loss function measures how accurate the model is during training. We want to minimize this function to steer the model in the right direction.\n",
    "- A metric is a function that is used to judge the performance of your model. We're using accuracy of our predictions as compared to y_test as our metric.  \n",
    "Lastly, we fit our training data into the model, with several training repetitions (epochs), then evaluate our test data. \n",
    "\n",
    "Our final result is about 98% accuracy in classifying 10k digits in the test set. You can try tweaking this model with different settings to get a better score. An easy tweak is increasing the epochs, which improves accuracy at the expense of time. Follow the links to the Keras layer docs above and try different options for Dense output, activation functions, optimization algorithms and loss functions."
   ]
  },
  {
   "cell_type": "code",
   "execution_count": 215,
   "metadata": {},
   "outputs": [
    {
     "name": "stdout",
     "output_type": "stream",
     "text": [
      "Epoch 1/4\n",
      "60000/60000 [==============================] - 5s 89us/sample - loss: 0.2581 - acc: 0.9244\n",
      "Epoch 2/4\n",
      "60000/60000 [==============================] - 5s 83us/sample - loss: 0.1180 - acc: 0.9644\n",
      "Epoch 3/4\n",
      "60000/60000 [==============================] - 5s 81us/sample - loss: 0.0867 - acc: 0.9736\n",
      "Epoch 4/4\n",
      "60000/60000 [==============================] - 5s 82us/sample - loss: 0.0697 - acc: 0.9785\n",
      "10000/10000 [==============================] - 1s 59us/sample - loss: 0.0662 - acc: 0.9791\n"
     ]
    },
    {
     "data": {
      "text/plain": [
       "[0.0662360069771763, 0.9791]"
      ]
     },
     "execution_count": 215,
     "metadata": {},
     "output_type": "execute_result"
    }
   ],
   "source": [
    "import tensorflow as tf\n",
    "# Disable some deprecated error messages\n",
    "tf.logging.set_verbosity(tf.logging.ERROR)\n",
    "\n",
    "# Normalize the data to a 0.0 to 1.0 scale for faster processing\n",
    "x_train, x_test = x_train / 255.0, x_test / 255.0\n",
    "\n",
    "model = tf.keras.models.Sequential([\n",
    "  tf.keras.layers.Flatten(input_shape=(28, 28)),\n",
    "  tf.keras.layers.Dense(256, activation=tf.nn.relu),\n",
    "  tf.keras.layers.Dropout(0.25),\n",
    "  tf.keras.layers.Dense(10, activation=tf.nn.softmax)\n",
    "])\n",
    " \n",
    "model.compile(optimizer='adam',\n",
    "              loss='sparse_categorical_crossentropy',\n",
    "              metrics=['accuracy'])\n",
    "\n",
    "model.fit(x_train, y_train, epochs=4)\n",
    "model.evaluate(x_test, y_test)"
   ]
  },
  {
   "cell_type": "markdown",
   "metadata": {},
   "source": [
    "## 6. Generate predictions for test set  \n",
    "Our predictions are in the form of a list of 10 floats, with probabilities for each value. We can get the prediction by picking the index of the list item with the highest probability. And we can visualize that item to verify our prediction."
   ]
  },
  {
   "cell_type": "code",
   "execution_count": 216,
   "metadata": {},
   "outputs": [
    {
     "name": "stdout",
     "output_type": "stream",
     "text": [
      "[5.5930052e-09 1.6970777e-15 2.4897268e-10 2.3935108e-14 7.2053798e-09\n",
      " 4.4642620e-10 1.0000000e+00 8.1785776e-12 2.4993282e-10 2.6947859e-13]\n",
      "6\n"
     ]
    },
    {
     "data": {
      "text/plain": [
       "<matplotlib.image.AxesImage at 0x13fdb2668>"
      ]
     },
     "execution_count": 216,
     "metadata": {},
     "output_type": "execute_result"
    },
    {
     "data": {
      "image/png": "[encoded data removed]",
      "text/plain": [
       "<Figure size 432x288 with 1 Axes>"
      ]
     },
     "metadata": {
      "needs_background": "light"
     },
     "output_type": "display_data"
    }
   ],
   "source": [
    "predictions = model.predict(x_test)\n",
    "print(predictions[88])\n",
    "print(np.argmax(predictions[88]))\n",
    "plt.imshow(x_test[88].reshape(28, 28), cmap=cm.Greys)"
   ]
  }
 ],
 "metadata": {
  "kernelspec": {
   "display_name": "Python 3",
   "language": "python",
   "name": "python3"
  },
  "language_info": {
   "codemirror_mode": {
    "name": "ipython",
    "version": 3
   },
   "file_extension": ".py",
   "mimetype": "text/x-python",
   "name": "python",
   "nbconvert_exporter": "python",
   "pygments_lexer": "ipython3",
   "version": "3.7.0"
  }
 },
 "nbformat": 4,
 "nbformat_minor": 2
}
